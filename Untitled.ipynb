{
 "cells": [
  {
   "cell_type": "code",
   "execution_count": null,
   "id": "06f5281d",
   "metadata": {},
   "outputs": [],
   "source": [
    "#Electric Company\n",
    "#Create a function that given a list which represents street lights given as a parameter, \n",
    "#                   determine if an outage has occurred. A street with a total number of\n",
    "#                   “F” greater than or equal to 2 returns “Outage”, anything below returns “Power”\n",
    "#Example Input: [ 'T', 'F', 'F', 'F' ]\n",
    "#Example Output: “Outage”"
   ]
  },
  {
   "cell_type": "code",
   "execution_count": 31,
   "id": "7b912be6",
   "metadata": {},
   "outputs": [
    {
     "ename": "IndentationError",
     "evalue": "unexpected indent (<ipython-input-31-9c6b3af8c837>, line 4)",
     "output_type": "error",
     "traceback": [
      "\u001b[1;36m  File \u001b[1;32m\"<ipython-input-31-9c6b3af8c837>\"\u001b[1;36m, line \u001b[1;32m4\u001b[0m\n\u001b[1;33m    for i in x:\u001b[0m\n\u001b[1;37m    ^\u001b[0m\n\u001b[1;31mIndentationError\u001b[0m\u001b[1;31m:\u001b[0m unexpected indent\n"
     ]
    }
   ],
   "source": [
    "example_input =[ 'T', 'f', 'f', 'F' ]\n",
    "def power(x):\n",
    "        func = 0\n",
    "        for i in x:\n",
    "            if i.lower() == 'f':\n",
    "            func += 1\n",
    "        if func >2:\n",
    "            print('outage')\n",
    "        else:\n",
    "            print('Juice')\n",
    "        \n",
    "            \n",
    "       \n",
    "    return\n",
    "power(['T', 'f','f','f'])\n",
    "        \n",
    "        "
   ]
  }
 ],
 "metadata": {
  "kernelspec": {
   "display_name": "Python 3",
   "language": "python",
   "name": "python3"
  },
  "language_info": {
   "codemirror_mode": {
    "name": "ipython",
    "version": 3
   },
   "file_extension": ".py",
   "mimetype": "text/x-python",
   "name": "python",
   "nbconvert_exporter": "python",
   "pygments_lexer": "ipython3",
   "version": "3.8.8"
  }
 },
 "nbformat": 4,
 "nbformat_minor": 5
}
