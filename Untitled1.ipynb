{
 "cells": [
  {
   "cell_type": "code",
   "execution_count": 5,
   "id": "63439aba",
   "metadata": {},
   "outputs": [
    {
     "name": "stdout",
     "output_type": "stream",
     "text": [
      "(hello)\n"
     ]
    }
   ],
   "source": [
    "print(\"(hello)\")"
   ]
  },
  {
   "cell_type": "code",
   "execution_count": 1,
   "id": "3e00f1a6",
   "metadata": {
    "scrolled": true
   },
   "outputs": [
    {
     "ename": "SyntaxError",
     "evalue": "invalid syntax (<ipython-input-1-8b75d25076e6>, line 1)",
     "output_type": "error",
     "traceback": [
      "\u001b[1;36m  File \u001b[1;32m\"<ipython-input-1-8b75d25076e6>\"\u001b[1;36m, line \u001b[1;32m1\u001b[0m\n\u001b[1;33m    card_dict{}\u001b[0m\n\u001b[1;37m             ^\u001b[0m\n\u001b[1;31mSyntaxError\u001b[0m\u001b[1;31m:\u001b[0m invalid syntax\n"
     ]
    }
   ],
   "source": [
    "card_dict{\n",
    "    '01':'A',\n",
    "    '02':'J',\n",
    "    '03':''\n",
    "}\n",
    "nums = [\"01\",\"02\",\"03\",\"04\",\"05\",\"06\",\"07\",\"08\",\"09\",\"10\",\"11\",\"12\",\"13\",\"14\",\"15\",\"16\"]\n",
    "\n",
    "class Board(self):\n",
    "    def __init__(self):\n",
    "        self.self = self\n",
    "    def start_board(self):\n",
    "        row1 = nums[:4]\n",
    "        row2 = nums[4:8]\n",
    "        row3 = nums[8:12]\n",
    "        row4 = nums[12:]\n",
    "        print(\"===================\\nMEMORY\\n===================\")\n",
    "        print(row1)\n",
    "        print(row2)\n",
    "        print(row3)\n",
    "        print(row4)\n",
    "\n",
    "\n",
    "class UI (self):\n",
    "\n",
    "    def __init__(self):\n",
    "        self.self = self\n",
    "        \n",
    "    def play():\n",
    "        while True:\n",
    "            response = input(\"Would you like to play a game? Type 'Y' or 'N'\")\n",
    "            if response.lower() == n:\n",
    "                print(\"ight then\")\n",
    "            if response.lower() == y:\n",
    "                while True:\n",
    "                    guess1 = input(\"please choose a card, using two digits. (for 1, type '01'): \")\n",
    "                    if guess1 not in nums:\n",
    "                        guess1 = input(\"invalid number\")\n",
    "                        continue\n",
    "                    elif guess1 in nums:\n",
    "                        nums [guess1] = card_dict.get(guess1)\n",
    "                        Board.start_board()\n",
    "                        guess2 = input(\"please guess another vcard\")\n",
    "                        if guess2 not in of if guess2 == guess1:\n",
    "                            guess2 = input(\"invalid number\")\n",
    "                        elif guess1 not in nums:\n",
    "                            guess2 = input(\"invalid number\")\n",
    "                card_dict.get(guess1)\n",
    "                        "
   ]
  }
 ],
 "metadata": {
  "kernelspec": {
   "display_name": "Python 3",
   "language": "python",
   "name": "python3"
  },
  "language_info": {
   "codemirror_mode": {
    "name": "ipython",
    "version": 3
   },
   "file_extension": ".py",
   "mimetype": "text/x-python",
   "name": "python",
   "nbconvert_exporter": "python",
   "pygments_lexer": "ipython3",
   "version": "3.8.8"
  }
 },
 "nbformat": 4,
 "nbformat_minor": 5
}
